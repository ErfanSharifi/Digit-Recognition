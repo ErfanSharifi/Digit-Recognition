{
 "cells": [
  {
   "cell_type": "code",
   "execution_count": 1,
   "metadata": {},
   "outputs": [],
   "source": [
    "import os\n",
    "os.environ[\"TF_CPP_MIN_LOG_LEVEL\"] = \"3\"\n",
    "import glob\n",
    "import numpy as np\n",
    "import cv2\n",
    "import matplotlib.pyplot as plt\n",
    "from sklearn.preprocessing import LabelBinarizer\n",
    "from sklearn.model_selection import train_test_split\n",
    "from tensorflow.keras.models import Sequential\n",
    "from tensorflow.keras.layers import Conv2D,MaxPool2D,Dense,Flatten\n"
   ]
  },
  {
   "cell_type": "code",
   "execution_count": 6,
   "metadata": {},
   "outputs": [],
   "source": [
    "\n",
    "def Load_Dataset_Preprocessing(dataset):\n",
    "\n",
    "    all_images = []\n",
    "    all_labels = []\n",
    "\n",
    "\n",
    "\n",
    "    for i,items in enumerate(glob.glob(dataset)):\n",
    "\n",
    "        img = cv2.imread(items)\n",
    "        img = cv2.resize(img, (32,32))\n",
    "        img = img/255.0\n",
    "\n",
    "        all_images.append(img)\n",
    "\n",
    "        label = items.split(\"/\")[-2]\n",
    "        all_labels.append(label)\n",
    "\n",
    "        if i%100 == 0:print (\"[INFO] {}/4000 processed\".format(i))\n",
    "\n",
    "    all_images = np.array(all_images)\n",
    "\n",
    "    lb = LabelBinarizer()\n",
    "    all_labels = lb.fit_transform(all_labels)\n",
    "\n",
    "    trainx,testx,trainy,testy = train_test_split(all_images, all_labels, test_size=0.2, random_state=12)\n",
    "\n",
    "    return trainx,testx,trainy,testy\n",
    "\n"
   ]
  },
  {
   "cell_type": "code",
   "execution_count": 10,
   "metadata": {},
   "outputs": [],
   "source": [
    "def CNN_Model():\n",
    "\n",
    "    model = Sequential([\n",
    "        \n",
    "        Conv2D(32,(3,3),activation='relu',padding='same', input_shape = (32,32,3)),\n",
    "        MaxPool2D(),\n",
    "        Conv2D(32,(3,3),activation='relu'),\n",
    "        MaxPool2D(),\n",
    "\n",
    "        Flatten(),\n",
    "\n",
    "        Dense(32, activation='relu'),\n",
    "        Dense(10, activation='softmax')\n",
    "                      ])\n",
    "\n",
    "    model.compile(optimizer='SGD',\n",
    "                 loss = \"categorical_crossentropy\",\n",
    "                 metrics = ['accuracy'])\n",
    "\n",
    "    return model\n",
    "\n"
   ]
  },
  {
   "cell_type": "code",
   "execution_count": 15,
   "metadata": {},
   "outputs": [],
   "source": [
    "def Visualizing(H):\n",
    "\n",
    "    plt.plot(H.history['accuracy'], label = 'Train Accuracy')\n",
    "    plt.plot(H.history['val_accuracy'], label = 'Test Accuracy')\n",
    "    plt.plot(H.history['loss'], label = 'Train Loss')\n",
    "    plt.plot(H.history['val_loss'], label = 'Test Loss')\n",
    "\n",
    "    plt.legend()\n",
    "    plt.xlabel(\"Epochs\")\n",
    "    plt.ylabel(\"Accuracy\")\n",
    "    plt.show()"
   ]
  },
  {
   "cell_type": "code",
   "execution_count": 7,
   "metadata": {},
   "outputs": [
    {
     "name": "stdout",
     "output_type": "stream",
     "text": [
      "[INFO] 0/4000 processed\n",
      "[INFO] 100/4000 processed\n",
      "[INFO] 200/4000 processed\n",
      "[INFO] 300/4000 processed\n",
      "[INFO] 400/4000 processed\n",
      "[INFO] 500/4000 processed\n",
      "[INFO] 600/4000 processed\n",
      "[INFO] 700/4000 processed\n",
      "[INFO] 800/4000 processed\n",
      "[INFO] 900/4000 processed\n",
      "[INFO] 1000/4000 processed\n",
      "[INFO] 1100/4000 processed\n",
      "[INFO] 1200/4000 processed\n",
      "[INFO] 1300/4000 processed\n",
      "[INFO] 1400/4000 processed\n",
      "[INFO] 1500/4000 processed\n",
      "[INFO] 1600/4000 processed\n",
      "[INFO] 1700/4000 processed\n",
      "[INFO] 1800/4000 processed\n",
      "[INFO] 1900/4000 processed\n",
      "[INFO] 2000/4000 processed\n",
      "[INFO] 2100/4000 processed\n",
      "[INFO] 2200/4000 processed\n",
      "[INFO] 2300/4000 processed\n",
      "[INFO] 2400/4000 processed\n",
      "[INFO] 2500/4000 processed\n",
      "[INFO] 2600/4000 processed\n",
      "[INFO] 2700/4000 processed\n",
      "[INFO] 2800/4000 processed\n",
      "[INFO] 2900/4000 processed\n",
      "[INFO] 3000/4000 processed\n",
      "[INFO] 3100/4000 processed\n",
      "[INFO] 3200/4000 processed\n",
      "[INFO] 3300/4000 processed\n",
      "[INFO] 3400/4000 processed\n",
      "[INFO] 3500/4000 processed\n",
      "[INFO] 3600/4000 processed\n",
      "[INFO] 3700/4000 processed\n",
      "[INFO] 3800/4000 processed\n",
      "[INFO] 3900/4000 processed\n",
      "[INFO] 4000/4000 processed\n"
     ]
    }
   ],
   "source": [
    "trainx,testx,trainy,testy = Load_Dataset_Preprocessing(\"/Users/admin/Documents/MyDocuments/Ai/DeepLearning/DeepLearning Courses/Ostad Ghasemi/Codes/Week-4/Dataset/Digit/*/*\")"
   ]
  },
  {
   "cell_type": "code",
   "execution_count": 14,
   "metadata": {},
   "outputs": [
    {
     "name": "stdout",
     "output_type": "stream",
     "text": [
      "Epoch 1/20\n",
      "101/101 [==============================] - 3s 29ms/step - loss: 2.0689 - accuracy: 0.3961 - val_loss: 1.7334 - val_accuracy: 0.6978\n",
      "Epoch 2/20\n",
      "101/101 [==============================] - 3s 30ms/step - loss: 1.1337 - accuracy: 0.7621 - val_loss: 0.6303 - val_accuracy: 0.8632\n",
      "Epoch 3/20\n",
      "101/101 [==============================] - 3s 31ms/step - loss: 0.4180 - accuracy: 0.9095 - val_loss: 0.3685 - val_accuracy: 0.8980\n",
      "Epoch 4/20\n",
      "101/101 [==============================] - 3s 34ms/step - loss: 0.2371 - accuracy: 0.9440 - val_loss: 0.2153 - val_accuracy: 0.9502\n",
      "Epoch 5/20\n",
      "101/101 [==============================] - 3s 29ms/step - loss: 0.1648 - accuracy: 0.9602 - val_loss: 0.1895 - val_accuracy: 0.9540\n",
      "Epoch 6/20\n",
      "101/101 [==============================] - 3s 26ms/step - loss: 0.1345 - accuracy: 0.9658 - val_loss: 0.1621 - val_accuracy: 0.9639\n",
      "Epoch 7/20\n",
      "101/101 [==============================] - 3s 27ms/step - loss: 0.1020 - accuracy: 0.9742 - val_loss: 0.1545 - val_accuracy: 0.9677\n",
      "Epoch 8/20\n",
      "101/101 [==============================] - 3s 29ms/step - loss: 0.0872 - accuracy: 0.9785 - val_loss: 0.1379 - val_accuracy: 0.9639\n",
      "Epoch 9/20\n",
      "101/101 [==============================] - 3s 30ms/step - loss: 0.0728 - accuracy: 0.9838 - val_loss: 0.1325 - val_accuracy: 0.9652\n",
      "Epoch 10/20\n",
      "101/101 [==============================] - 3s 30ms/step - loss: 0.0639 - accuracy: 0.9848 - val_loss: 0.1158 - val_accuracy: 0.9677\n",
      "Epoch 11/20\n",
      "101/101 [==============================] - 3s 32ms/step - loss: 0.0552 - accuracy: 0.9866 - val_loss: 0.1157 - val_accuracy: 0.9639\n",
      "Epoch 12/20\n",
      "101/101 [==============================] - 3s 26ms/step - loss: 0.0496 - accuracy: 0.9894 - val_loss: 0.1035 - val_accuracy: 0.9726\n",
      "Epoch 13/20\n",
      "101/101 [==============================] - 3s 26ms/step - loss: 0.0442 - accuracy: 0.9907 - val_loss: 0.1133 - val_accuracy: 0.9689\n",
      "Epoch 14/20\n",
      "101/101 [==============================] - 3s 28ms/step - loss: 0.0399 - accuracy: 0.9925 - val_loss: 0.0965 - val_accuracy: 0.9739\n",
      "Epoch 15/20\n",
      "101/101 [==============================] - 3s 25ms/step - loss: 0.0357 - accuracy: 0.9928 - val_loss: 0.1467 - val_accuracy: 0.9527\n",
      "Epoch 16/20\n",
      "101/101 [==============================] - 3s 26ms/step - loss: 0.0334 - accuracy: 0.9925 - val_loss: 0.1056 - val_accuracy: 0.9701\n",
      "Epoch 17/20\n",
      "101/101 [==============================] - 3s 25ms/step - loss: 0.0282 - accuracy: 0.9950 - val_loss: 0.0917 - val_accuracy: 0.9714\n",
      "Epoch 18/20\n",
      "101/101 [==============================] - 3s 29ms/step - loss: 0.0265 - accuracy: 0.9950 - val_loss: 0.0839 - val_accuracy: 0.9714\n",
      "Epoch 19/20\n",
      "101/101 [==============================] - 3s 28ms/step - loss: 0.0232 - accuracy: 0.9953 - val_loss: 0.0801 - val_accuracy: 0.9764\n",
      "Epoch 20/20\n",
      "101/101 [==============================] - 2s 24ms/step - loss: 0.0205 - accuracy: 0.9975 - val_loss: 0.0748 - val_accuracy: 0.9801\n"
     ]
    }
   ],
   "source": [
    "model = CNN_Model()\n",
    "H = model.fit(trainx, trainy, epochs = 20, batch_size=32, validation_data=(testx,testy))\n",
    "model.save(\"Digi_Recognition.h5\")"
   ]
  },
  {
   "cell_type": "code",
   "execution_count": 16,
   "metadata": {},
   "outputs": [
    {
     "data": {
      "image/png": "[encoded data removed]",
      "text/plain": [
       "<Figure size 432x288 with 1 Axes>"
      ]
     },
     "metadata": {
      "needs_background": "light"
     },
     "output_type": "display_data"
    }
   ],
   "source": [
    "Visualizing(H)"
   ]
  },
  {
   "cell_type": "code",
   "execution_count": null,
   "metadata": {},
   "outputs": [],
   "source": []
  }
 ],
 "metadata": {
  "interpreter": {
   "hash": "aee8b7b246df8f9039afb4144a1f6fd8d2ca17a180786b69acc140d282b71a49"
  },
  "kernelspec": {
   "display_name": "Python 3.9.6 64-bit",
   "language": "python",
   "name": "python3"
  },
  "language_info": {
   "codemirror_mode": {
    "name": "ipython",
    "version": 3
   },
   "file_extension": ".py",
   "mimetype": "text/x-python",
   "name": "python",
   "nbconvert_exporter": "python",
   "pygments_lexer": "ipython3",
   "version": "3.9.6"
  },
  "orig_nbformat": 4
 },
 "nbformat": 4,
 "nbformat_minor": 2
}
